{
 "cells": [
  {
   "cell_type": "code",
   "execution_count": 3,
   "id": "initial_id",
   "metadata": {
    "collapsed": true,
    "ExecuteTime": {
     "end_time": "2024-06-21T15:15:17.548006Z",
     "start_time": "2024-06-21T15:15:16.523674Z"
    }
   },
   "outputs": [],
   "source": [
    "import pickle \n",
    "import pandas as pd\n",
    "import numpy as np\n",
    "\n",
    "from sklearn.metrics.pairwise import cosine_similarity \n"
   ]
  },
  {
   "cell_type": "code",
   "outputs": [],
   "source": [
    "book = pd.read_csv('Books.csv', low_memory=False)\n",
    "user = pd.read_csv('Users.csv')\n",
    "rating = pd.read_csv('Ratings.csv')"
   ],
   "metadata": {
    "collapsed": false,
    "ExecuteTime": {
     "end_time": "2024-06-21T15:15:18.894281Z",
     "start_time": "2024-06-21T15:15:17.548978Z"
    }
   },
   "id": "345ed9e50a87ed4b",
   "execution_count": 4
  },
  {
   "cell_type": "code",
   "outputs": [
    {
     "name": "stdout",
     "output_type": "stream",
     "text": [
      "<class 'pandas.core.frame.DataFrame'>\n",
      "RangeIndex: 1149780 entries, 0 to 1149779\n",
      "Data columns (total 3 columns):\n",
      " #   Column       Non-Null Count    Dtype \n",
      "---  ------       --------------    ----- \n",
      " 0   User-ID      1149780 non-null  int64 \n",
      " 1   ISBN         1149780 non-null  object\n",
      " 2   Book-Rating  1149780 non-null  int64 \n",
      "dtypes: int64(2), object(1)\n",
      "memory usage: 26.3+ MB\n"
     ]
    }
   ],
   "source": [
    "rating.info()"
   ],
   "metadata": {
    "collapsed": false,
    "ExecuteTime": {
     "end_time": "2024-06-21T15:15:18.933392Z",
     "start_time": "2024-06-21T15:15:18.895028Z"
    }
   },
   "id": "59b5891e40c69e15",
   "execution_count": 5
  },
  {
   "cell_type": "markdown",
   "source": [
    "# popularity based Recommendation"
   ],
   "metadata": {
    "collapsed": false
   },
   "id": "baf204889468cf93"
  },
  {
   "cell_type": "code",
   "outputs": [],
   "source": [
    "all_information = book.merge(rating, on='ISBN')"
   ],
   "metadata": {
    "collapsed": false,
    "ExecuteTime": {
     "end_time": "2024-06-21T15:15:19.308368Z",
     "start_time": "2024-06-21T15:15:18.935700Z"
    }
   },
   "id": "5c5a3cdf110b9996",
   "execution_count": 6
  },
  {
   "cell_type": "code",
   "outputs": [
    {
     "name": "stdout",
     "output_type": "stream",
     "text": [
      "<class 'pandas.core.frame.DataFrame'>\n",
      "RangeIndex: 1031136 entries, 0 to 1031135\n",
      "Data columns (total 10 columns):\n",
      " #   Column               Non-Null Count    Dtype \n",
      "---  ------               --------------    ----- \n",
      " 0   ISBN                 1031136 non-null  object\n",
      " 1   Book-Title           1031136 non-null  object\n",
      " 2   Book-Author          1031134 non-null  object\n",
      " 3   Year-Of-Publication  1031136 non-null  object\n",
      " 4   Publisher            1031134 non-null  object\n",
      " 5   Image-URL-S          1031136 non-null  object\n",
      " 6   Image-URL-M          1031136 non-null  object\n",
      " 7   Image-URL-L          1031132 non-null  object\n",
      " 8   User-ID              1031136 non-null  int64 \n",
      " 9   Book-Rating          1031136 non-null  int64 \n",
      "dtypes: int64(2), object(8)\n",
      "memory usage: 78.7+ MB\n"
     ]
    }
   ],
   "source": [
    "all_information.info()"
   ],
   "metadata": {
    "collapsed": false,
    "ExecuteTime": {
     "end_time": "2024-06-21T15:15:19.482604Z",
     "start_time": "2024-06-21T15:15:19.308974Z"
    }
   },
   "id": "a84b973cb8fe621c",
   "execution_count": 7
  },
  {
   "cell_type": "code",
   "outputs": [],
   "source": [
    "df = all_information.groupby('Book-Title').count()['Book-Rating'].reset_index()\n",
    "df= df.rename(columns={'Book-Rating':'Num-Rating'})"
   ],
   "metadata": {
    "collapsed": false,
    "ExecuteTime": {
     "end_time": "2024-06-21T15:15:19.896088Z",
     "start_time": "2024-06-21T15:15:19.483378Z"
    }
   },
   "id": "8eab5a745071e06f",
   "execution_count": 8
  },
  {
   "cell_type": "code",
   "outputs": [],
   "source": [
    "new_df = all_information.groupby('Book-Title').sum()['Book-Rating'].reset_index()\n",
    "new_df = new_df.rename(columns={'Book-Rating':'Average-Rating'})"
   ],
   "metadata": {
    "collapsed": false,
    "ExecuteTime": {
     "end_time": "2024-06-21T15:15:21.114771Z",
     "start_time": "2024-06-21T15:15:19.896752Z"
    }
   },
   "id": "c63b73e1961d79fa",
   "execution_count": 9
  },
  {
   "cell_type": "code",
   "outputs": [],
   "source": [
    "df = df.merge(new_df, on ='Book-Title')"
   ],
   "metadata": {
    "collapsed": false,
    "ExecuteTime": {
     "end_time": "2024-06-21T15:15:21.158372Z",
     "start_time": "2024-06-21T15:15:21.116077Z"
    }
   },
   "id": "c139d6e1a39f1e74",
   "execution_count": 10
  },
  {
   "cell_type": "code",
   "outputs": [],
   "source": [
    "df = df[df['Num-Rating']>200]"
   ],
   "metadata": {
    "collapsed": false,
    "ExecuteTime": {
     "end_time": "2024-06-21T15:15:21.164410Z",
     "start_time": "2024-06-21T15:15:21.159044Z"
    }
   },
   "id": "2b66a73c96fe9ba6",
   "execution_count": 11
  },
  {
   "cell_type": "code",
   "outputs": [],
   "source": [
    "df = df.merge(all_information,on='Book-Title').drop_duplicates('Book-Title')[['Book-Title','Book-Author','Image-URL-M','Num-Rating','Average-Rating']]\n"
   ],
   "metadata": {
    "collapsed": false,
    "ExecuteTime": {
     "end_time": "2024-06-21T15:15:21.302061Z",
     "start_time": "2024-06-21T15:15:21.167574Z"
    }
   },
   "id": "da45ffbdac2689f5",
   "execution_count": 12
  },
  {
   "cell_type": "code",
   "outputs": [],
   "source": [
    "df['Average-Rating'] = df['Average-Rating']/df['Num-Rating']"
   ],
   "metadata": {
    "collapsed": false,
    "ExecuteTime": {
     "end_time": "2024-06-21T15:15:21.304884Z",
     "start_time": "2024-06-21T15:15:21.302716Z"
    }
   },
   "id": "84817ef4f39af261",
   "execution_count": 13
  },
  {
   "cell_type": "code",
   "outputs": [],
   "source": [
    "df = df.head(50)"
   ],
   "metadata": {
    "collapsed": false,
    "ExecuteTime": {
     "end_time": "2024-06-21T15:15:21.307179Z",
     "start_time": "2024-06-21T15:15:21.305609Z"
    }
   },
   "id": "fc75a7eab0716875",
   "execution_count": 14
  },
  {
   "cell_type": "markdown",
   "source": [
    "# Collaborative based Recommendation"
   ],
   "metadata": {
    "collapsed": false
   },
   "id": "eaf921fb433d6ed2"
  },
  {
   "cell_type": "code",
   "outputs": [],
   "source": [
    "col_df = all_information"
   ],
   "metadata": {
    "collapsed": false,
    "ExecuteTime": {
     "end_time": "2024-06-21T15:15:21.309952Z",
     "start_time": "2024-06-21T15:15:21.307894Z"
    }
   },
   "id": "a70b56cdf08bc156",
   "execution_count": 15
  },
  {
   "cell_type": "code",
   "outputs": [],
   "source": [
    "active_user = col_df.groupby('User-ID').count()['Book-Rating']>=200\n",
    "index = active_user[active_user].index\n",
    "final_df = col_df[col_df['User-ID'].isin(index)]"
   ],
   "metadata": {
    "collapsed": false,
    "ExecuteTime": {
     "end_time": "2024-06-21T15:15:21.545067Z",
     "start_time": "2024-06-21T15:15:21.310498Z"
    }
   },
   "id": "61b84d48165b5b11",
   "execution_count": 16
  },
  {
   "cell_type": "code",
   "outputs": [],
   "source": [
    "famous_books = final_df.groupby('Book-Title').count()['Book-Rating']>=50\n",
    "index = famous_books[famous_books].index\n",
    "final_df = final_df[final_df['Book-Title'].isin(index)]"
   ],
   "metadata": {
    "collapsed": false,
    "ExecuteTime": {
     "end_time": "2024-06-21T15:15:21.791496Z",
     "start_time": "2024-06-21T15:15:21.545781Z"
    }
   },
   "id": "7de8f149382cea0a",
   "execution_count": 17
  },
  {
   "cell_type": "code",
   "outputs": [
    {
     "data": {
      "text/plain": "          ISBN              Book-Title Book-Author Year-Of-Publication  \\\n31  0399135782  The Kitchen God's Wife     Amy Tan                1991   \n33  0399135782  The Kitchen God's Wife     Amy Tan                1991   \n34  0399135782  The Kitchen God's Wife     Amy Tan                1991   \n38  0399135782  The Kitchen God's Wife     Amy Tan                1991   \n39  0399135782  The Kitchen God's Wife     Amy Tan                1991   \n\n           Publisher                                        Image-URL-S  \\\n31  Putnam Pub Group  http://images.amazon.com/images/P/0399135782.0...   \n33  Putnam Pub Group  http://images.amazon.com/images/P/0399135782.0...   \n34  Putnam Pub Group  http://images.amazon.com/images/P/0399135782.0...   \n38  Putnam Pub Group  http://images.amazon.com/images/P/0399135782.0...   \n39  Putnam Pub Group  http://images.amazon.com/images/P/0399135782.0...   \n\n                                          Image-URL-M  \\\n31  http://images.amazon.com/images/P/0399135782.0...   \n33  http://images.amazon.com/images/P/0399135782.0...   \n34  http://images.amazon.com/images/P/0399135782.0...   \n38  http://images.amazon.com/images/P/0399135782.0...   \n39  http://images.amazon.com/images/P/0399135782.0...   \n\n                                          Image-URL-L  User-ID  Book-Rating  \n31  http://images.amazon.com/images/P/0399135782.0...    11676            9  \n33  http://images.amazon.com/images/P/0399135782.0...    36836            0  \n34  http://images.amazon.com/images/P/0399135782.0...    46398            9  \n38  http://images.amazon.com/images/P/0399135782.0...   113270            0  \n39  http://images.amazon.com/images/P/0399135782.0...   113519            0  ",
      "text/html": "<div>\n<style scoped>\n    .dataframe tbody tr th:only-of-type {\n        vertical-align: middle;\n    }\n\n    .dataframe tbody tr th {\n        vertical-align: top;\n    }\n\n    .dataframe thead th {\n        text-align: right;\n    }\n</style>\n<table border=\"1\" class=\"dataframe\">\n  <thead>\n    <tr style=\"text-align: right;\">\n      <th></th>\n      <th>ISBN</th>\n      <th>Book-Title</th>\n      <th>Book-Author</th>\n      <th>Year-Of-Publication</th>\n      <th>Publisher</th>\n      <th>Image-URL-S</th>\n      <th>Image-URL-M</th>\n      <th>Image-URL-L</th>\n      <th>User-ID</th>\n      <th>Book-Rating</th>\n    </tr>\n  </thead>\n  <tbody>\n    <tr>\n      <th>31</th>\n      <td>0399135782</td>\n      <td>The Kitchen God's Wife</td>\n      <td>Amy Tan</td>\n      <td>1991</td>\n      <td>Putnam Pub Group</td>\n      <td>http://images.amazon.com/images/P/0399135782.0...</td>\n      <td>http://images.amazon.com/images/P/0399135782.0...</td>\n      <td>http://images.amazon.com/images/P/0399135782.0...</td>\n      <td>11676</td>\n      <td>9</td>\n    </tr>\n    <tr>\n      <th>33</th>\n      <td>0399135782</td>\n      <td>The Kitchen God's Wife</td>\n      <td>Amy Tan</td>\n      <td>1991</td>\n      <td>Putnam Pub Group</td>\n      <td>http://images.amazon.com/images/P/0399135782.0...</td>\n      <td>http://images.amazon.com/images/P/0399135782.0...</td>\n      <td>http://images.amazon.com/images/P/0399135782.0...</td>\n      <td>36836</td>\n      <td>0</td>\n    </tr>\n    <tr>\n      <th>34</th>\n      <td>0399135782</td>\n      <td>The Kitchen God's Wife</td>\n      <td>Amy Tan</td>\n      <td>1991</td>\n      <td>Putnam Pub Group</td>\n      <td>http://images.amazon.com/images/P/0399135782.0...</td>\n      <td>http://images.amazon.com/images/P/0399135782.0...</td>\n      <td>http://images.amazon.com/images/P/0399135782.0...</td>\n      <td>46398</td>\n      <td>9</td>\n    </tr>\n    <tr>\n      <th>38</th>\n      <td>0399135782</td>\n      <td>The Kitchen God's Wife</td>\n      <td>Amy Tan</td>\n      <td>1991</td>\n      <td>Putnam Pub Group</td>\n      <td>http://images.amazon.com/images/P/0399135782.0...</td>\n      <td>http://images.amazon.com/images/P/0399135782.0...</td>\n      <td>http://images.amazon.com/images/P/0399135782.0...</td>\n      <td>113270</td>\n      <td>0</td>\n    </tr>\n    <tr>\n      <th>39</th>\n      <td>0399135782</td>\n      <td>The Kitchen God's Wife</td>\n      <td>Amy Tan</td>\n      <td>1991</td>\n      <td>Putnam Pub Group</td>\n      <td>http://images.amazon.com/images/P/0399135782.0...</td>\n      <td>http://images.amazon.com/images/P/0399135782.0...</td>\n      <td>http://images.amazon.com/images/P/0399135782.0...</td>\n      <td>113519</td>\n      <td>0</td>\n    </tr>\n  </tbody>\n</table>\n</div>"
     },
     "execution_count": 18,
     "metadata": {},
     "output_type": "execute_result"
    }
   ],
   "source": [
    "final_df.head()"
   ],
   "metadata": {
    "collapsed": false,
    "ExecuteTime": {
     "end_time": "2024-06-21T15:15:21.800503Z",
     "start_time": "2024-06-21T15:15:21.792088Z"
    }
   },
   "id": "b0e3a3c1aac6f27b",
   "execution_count": 18
  },
  {
   "cell_type": "code",
   "outputs": [
    {
     "data": {
      "text/plain": "               ISBN                       Book-Title      Book-Author  \\\n31       0399135782           The Kitchen God's Wife          Amy Tan   \n33       0399135782           The Kitchen God's Wife          Amy Tan   \n34       0399135782           The Kitchen God's Wife          Amy Tan   \n38       0399135782           The Kitchen God's Wife          Amy Tan   \n39       0399135782           The Kitchen God's Wife          Amy Tan   \n...             ...                              ...              ...   \n1028414  1878702831                           Echoes      Nancy Morse   \n1028600  0394429869  I Know Why the Caged Bird Sings     Maya Angelou   \n1028602  0449001164                      The Promise      CHAIM POTOK   \n1028815  0743527631         The Pillars of the Earth      Ken Follett   \n1028817  0745168086              The Handmaid's Tale  Margaret Atwood   \n\n        Year-Of-Publication                      Publisher  \\\n31                     1991               Putnam Pub Group   \n33                     1991               Putnam Pub Group   \n34                     1991               Putnam Pub Group   \n38                     1991               Putnam Pub Group   \n39                     1991               Putnam Pub Group   \n...                     ...                            ...   \n1028414                1992  Meteor Publishing Corporation   \n1028600                1996                   Random House   \n1028602                1997               Ballantine Books   \n1028815                2002                         Encore   \n1028817                1999            Chivers Audio Books   \n\n                                               Image-URL-S  \\\n31       http://images.amazon.com/images/P/0399135782.0...   \n33       http://images.amazon.com/images/P/0399135782.0...   \n34       http://images.amazon.com/images/P/0399135782.0...   \n38       http://images.amazon.com/images/P/0399135782.0...   \n39       http://images.amazon.com/images/P/0399135782.0...   \n...                                                    ...   \n1028414  http://images.amazon.com/images/P/1878702831.0...   \n1028600  http://images.amazon.com/images/P/0394429869.0...   \n1028602  http://images.amazon.com/images/P/0449001164.0...   \n1028815  http://images.amazon.com/images/P/0743527631.0...   \n1028817  http://images.amazon.com/images/P/0745168086.0...   \n\n                                               Image-URL-M  \\\n31       http://images.amazon.com/images/P/0399135782.0...   \n33       http://images.amazon.com/images/P/0399135782.0...   \n34       http://images.amazon.com/images/P/0399135782.0...   \n38       http://images.amazon.com/images/P/0399135782.0...   \n39       http://images.amazon.com/images/P/0399135782.0...   \n...                                                    ...   \n1028414  http://images.amazon.com/images/P/1878702831.0...   \n1028600  http://images.amazon.com/images/P/0394429869.0...   \n1028602  http://images.amazon.com/images/P/0449001164.0...   \n1028815  http://images.amazon.com/images/P/0743527631.0...   \n1028817  http://images.amazon.com/images/P/0745168086.0...   \n\n                                               Image-URL-L  User-ID  \\\n31       http://images.amazon.com/images/P/0399135782.0...    11676   \n33       http://images.amazon.com/images/P/0399135782.0...    36836   \n34       http://images.amazon.com/images/P/0399135782.0...    46398   \n38       http://images.amazon.com/images/P/0399135782.0...   113270   \n39       http://images.amazon.com/images/P/0399135782.0...   113519   \n...                                                    ...      ...   \n1028414  http://images.amazon.com/images/P/1878702831.0...   238781   \n1028600  http://images.amazon.com/images/P/0394429869.0...   239594   \n1028602  http://images.amazon.com/images/P/0449001164.0...   239594   \n1028815  http://images.amazon.com/images/P/0743527631.0...   240144   \n1028817  http://images.amazon.com/images/P/0745168086.0...   240144   \n\n         Book-Rating  \n31                 9  \n33                 0  \n34                 9  \n38                 0  \n39                 0  \n...              ...  \n1028414            0  \n1028600            8  \n1028602            7  \n1028815            0  \n1028817            0  \n\n[58823 rows x 10 columns]",
      "text/html": "<div>\n<style scoped>\n    .dataframe tbody tr th:only-of-type {\n        vertical-align: middle;\n    }\n\n    .dataframe tbody tr th {\n        vertical-align: top;\n    }\n\n    .dataframe thead th {\n        text-align: right;\n    }\n</style>\n<table border=\"1\" class=\"dataframe\">\n  <thead>\n    <tr style=\"text-align: right;\">\n      <th></th>\n      <th>ISBN</th>\n      <th>Book-Title</th>\n      <th>Book-Author</th>\n      <th>Year-Of-Publication</th>\n      <th>Publisher</th>\n      <th>Image-URL-S</th>\n      <th>Image-URL-M</th>\n      <th>Image-URL-L</th>\n      <th>User-ID</th>\n      <th>Book-Rating</th>\n    </tr>\n  </thead>\n  <tbody>\n    <tr>\n      <th>31</th>\n      <td>0399135782</td>\n      <td>The Kitchen God's Wife</td>\n      <td>Amy Tan</td>\n      <td>1991</td>\n      <td>Putnam Pub Group</td>\n      <td>http://images.amazon.com/images/P/0399135782.0...</td>\n      <td>http://images.amazon.com/images/P/0399135782.0...</td>\n      <td>http://images.amazon.com/images/P/0399135782.0...</td>\n      <td>11676</td>\n      <td>9</td>\n    </tr>\n    <tr>\n      <th>33</th>\n      <td>0399135782</td>\n      <td>The Kitchen God's Wife</td>\n      <td>Amy Tan</td>\n      <td>1991</td>\n      <td>Putnam Pub Group</td>\n      <td>http://images.amazon.com/images/P/0399135782.0...</td>\n      <td>http://images.amazon.com/images/P/0399135782.0...</td>\n      <td>http://images.amazon.com/images/P/0399135782.0...</td>\n      <td>36836</td>\n      <td>0</td>\n    </tr>\n    <tr>\n      <th>34</th>\n      <td>0399135782</td>\n      <td>The Kitchen God's Wife</td>\n      <td>Amy Tan</td>\n      <td>1991</td>\n      <td>Putnam Pub Group</td>\n      <td>http://images.amazon.com/images/P/0399135782.0...</td>\n      <td>http://images.amazon.com/images/P/0399135782.0...</td>\n      <td>http://images.amazon.com/images/P/0399135782.0...</td>\n      <td>46398</td>\n      <td>9</td>\n    </tr>\n    <tr>\n      <th>38</th>\n      <td>0399135782</td>\n      <td>The Kitchen God's Wife</td>\n      <td>Amy Tan</td>\n      <td>1991</td>\n      <td>Putnam Pub Group</td>\n      <td>http://images.amazon.com/images/P/0399135782.0...</td>\n      <td>http://images.amazon.com/images/P/0399135782.0...</td>\n      <td>http://images.amazon.com/images/P/0399135782.0...</td>\n      <td>113270</td>\n      <td>0</td>\n    </tr>\n    <tr>\n      <th>39</th>\n      <td>0399135782</td>\n      <td>The Kitchen God's Wife</td>\n      <td>Amy Tan</td>\n      <td>1991</td>\n      <td>Putnam Pub Group</td>\n      <td>http://images.amazon.com/images/P/0399135782.0...</td>\n      <td>http://images.amazon.com/images/P/0399135782.0...</td>\n      <td>http://images.amazon.com/images/P/0399135782.0...</td>\n      <td>113519</td>\n      <td>0</td>\n    </tr>\n    <tr>\n      <th>...</th>\n      <td>...</td>\n      <td>...</td>\n      <td>...</td>\n      <td>...</td>\n      <td>...</td>\n      <td>...</td>\n      <td>...</td>\n      <td>...</td>\n      <td>...</td>\n      <td>...</td>\n    </tr>\n    <tr>\n      <th>1028414</th>\n      <td>1878702831</td>\n      <td>Echoes</td>\n      <td>Nancy Morse</td>\n      <td>1992</td>\n      <td>Meteor Publishing Corporation</td>\n      <td>http://images.amazon.com/images/P/1878702831.0...</td>\n      <td>http://images.amazon.com/images/P/1878702831.0...</td>\n      <td>http://images.amazon.com/images/P/1878702831.0...</td>\n      <td>238781</td>\n      <td>0</td>\n    </tr>\n    <tr>\n      <th>1028600</th>\n      <td>0394429869</td>\n      <td>I Know Why the Caged Bird Sings</td>\n      <td>Maya Angelou</td>\n      <td>1996</td>\n      <td>Random House</td>\n      <td>http://images.amazon.com/images/P/0394429869.0...</td>\n      <td>http://images.amazon.com/images/P/0394429869.0...</td>\n      <td>http://images.amazon.com/images/P/0394429869.0...</td>\n      <td>239594</td>\n      <td>8</td>\n    </tr>\n    <tr>\n      <th>1028602</th>\n      <td>0449001164</td>\n      <td>The Promise</td>\n      <td>CHAIM POTOK</td>\n      <td>1997</td>\n      <td>Ballantine Books</td>\n      <td>http://images.amazon.com/images/P/0449001164.0...</td>\n      <td>http://images.amazon.com/images/P/0449001164.0...</td>\n      <td>http://images.amazon.com/images/P/0449001164.0...</td>\n      <td>239594</td>\n      <td>7</td>\n    </tr>\n    <tr>\n      <th>1028815</th>\n      <td>0743527631</td>\n      <td>The Pillars of the Earth</td>\n      <td>Ken Follett</td>\n      <td>2002</td>\n      <td>Encore</td>\n      <td>http://images.amazon.com/images/P/0743527631.0...</td>\n      <td>http://images.amazon.com/images/P/0743527631.0...</td>\n      <td>http://images.amazon.com/images/P/0743527631.0...</td>\n      <td>240144</td>\n      <td>0</td>\n    </tr>\n    <tr>\n      <th>1028817</th>\n      <td>0745168086</td>\n      <td>The Handmaid's Tale</td>\n      <td>Margaret Atwood</td>\n      <td>1999</td>\n      <td>Chivers Audio Books</td>\n      <td>http://images.amazon.com/images/P/0745168086.0...</td>\n      <td>http://images.amazon.com/images/P/0745168086.0...</td>\n      <td>http://images.amazon.com/images/P/0745168086.0...</td>\n      <td>240144</td>\n      <td>0</td>\n    </tr>\n  </tbody>\n</table>\n<p>58823 rows × 10 columns</p>\n</div>"
     },
     "execution_count": 19,
     "metadata": {},
     "output_type": "execute_result"
    }
   ],
   "source": [
    "final_df.dropna()"
   ],
   "metadata": {
    "collapsed": false,
    "ExecuteTime": {
     "end_time": "2024-06-21T15:15:21.818517Z",
     "start_time": "2024-06-21T15:15:21.801489Z"
    }
   },
   "id": "88ddb9af7cd37cff",
   "execution_count": 19
  },
  {
   "cell_type": "code",
   "outputs": [
    {
     "data": {
      "text/plain": "(58823, 10)"
     },
     "execution_count": 20,
     "metadata": {},
     "output_type": "execute_result"
    }
   ],
   "source": [
    "final_df.shape"
   ],
   "metadata": {
    "collapsed": false,
    "ExecuteTime": {
     "end_time": "2024-06-21T15:15:21.821418Z",
     "start_time": "2024-06-21T15:15:21.819336Z"
    }
   },
   "id": "6228f60ad7bf91a4",
   "execution_count": 20
  },
  {
   "cell_type": "code",
   "outputs": [],
   "source": [
    "df2 = final_df.pivot_table(index='Book-Title',columns='User-ID',values='Book-Rating')"
   ],
   "metadata": {
    "collapsed": false,
    "ExecuteTime": {
     "end_time": "2024-06-21T15:15:21.845993Z",
     "start_time": "2024-06-21T15:15:21.822584Z"
    }
   },
   "id": "5f426322330e9b9a",
   "execution_count": 21
  },
  {
   "cell_type": "code",
   "outputs": [
    {
     "data": {
      "text/plain": "(707, 815)"
     },
     "execution_count": 22,
     "metadata": {},
     "output_type": "execute_result"
    }
   ],
   "source": [
    "df2.shape"
   ],
   "metadata": {
    "collapsed": false,
    "ExecuteTime": {
     "end_time": "2024-06-21T15:15:21.850084Z",
     "start_time": "2024-06-21T15:15:21.847152Z"
    }
   },
   "id": "a356026919f1d3f6",
   "execution_count": 22
  },
  {
   "cell_type": "code",
   "outputs": [],
   "source": [
    "df2.fillna(0, inplace=True)"
   ],
   "metadata": {
    "collapsed": false,
    "ExecuteTime": {
     "end_time": "2024-06-21T15:15:21.855609Z",
     "start_time": "2024-06-21T15:15:21.850880Z"
    }
   },
   "id": "9458011549949845",
   "execution_count": 23
  },
  {
   "cell_type": "code",
   "outputs": [
    {
     "name": "stdout",
     "output_type": "stream",
     "text": [
      "<class 'pandas.core.frame.DataFrame'>\n",
      "Index: 707 entries, 1984 to \\O\\\" Is for Outlaw\"\n",
      "Columns: 815 entries, 254 to 278418\n",
      "dtypes: float64(815)\n",
      "memory usage: 4.4+ MB\n"
     ]
    }
   ],
   "source": [
    "df2.info()"
   ],
   "metadata": {
    "collapsed": false,
    "ExecuteTime": {
     "end_time": "2024-06-21T15:15:21.870073Z",
     "start_time": "2024-06-21T15:15:21.856343Z"
    }
   },
   "id": "feab242cb42db74a",
   "execution_count": 24
  },
  {
   "cell_type": "code",
   "outputs": [],
   "source": [
    "similarity_score = cosine_similarity(df2)"
   ],
   "metadata": {
    "collapsed": false,
    "ExecuteTime": {
     "end_time": "2024-06-21T15:15:21.879910Z",
     "start_time": "2024-06-21T15:15:21.870793Z"
    }
   },
   "id": "a658f46233eec5db",
   "execution_count": 25
  },
  {
   "cell_type": "code",
   "outputs": [],
   "source": [
    "def book_recommendation(name):\n",
    "    index = np.where(df2.index==name)[0][0]\n",
    "    score = sorted(list(enumerate(similarity_score[index])), key=lambda x: x[1], reverse=True)[1:6]\n",
    "    \n",
    "    for i in score:\n",
    "        print(df2.index[i[0]]) "
   ],
   "metadata": {
    "collapsed": false,
    "ExecuteTime": {
     "end_time": "2024-06-21T15:15:21.882798Z",
     "start_time": "2024-06-21T15:15:21.880651Z"
    }
   },
   "id": "9775a942807fd78c",
   "execution_count": 26
  },
  {
   "cell_type": "code",
   "outputs": [],
   "source": [],
   "metadata": {
    "collapsed": false,
    "ExecuteTime": {
     "end_time": "2024-06-21T15:15:21.886181Z",
     "start_time": "2024-06-21T15:15:21.884046Z"
    }
   },
   "id": "8df9e14e7e401694",
   "execution_count": 26
  },
  {
   "cell_type": "code",
   "outputs": [
    {
     "name": "stdout",
     "output_type": "stream",
     "text": [
      "Animal Farm\n",
      "The Handmaid's Tale\n",
      "Brave New World\n",
      "The Vampire Lestat (Vampire Chronicles, Book II)\n",
      "The Hours : A Novel\n"
     ]
    }
   ],
   "source": [
    "book_recommendation('1984')"
   ],
   "metadata": {
    "collapsed": false,
    "ExecuteTime": {
     "end_time": "2024-06-21T15:15:21.889640Z",
     "start_time": "2024-06-21T15:15:21.886883Z"
    }
   },
   "id": "29af89372ed85aab",
   "execution_count": 27
  },
  {
   "cell_type": "code",
   "outputs": [],
   "source": [
    "# pickle.dump(df2.to_dict(), open('df2.pkl', 'wb'))"
   ],
   "metadata": {
    "collapsed": false,
    "ExecuteTime": {
     "end_time": "2024-06-21T15:15:21.892506Z",
     "start_time": "2024-06-21T15:15:21.890455Z"
    }
   },
   "id": "b9564057d4431208",
   "execution_count": 28
  },
  {
   "cell_type": "code",
   "outputs": [],
   "source": [
    "# pickle.dump(similarity_score, open('similarity_score.pkl', 'wb'))"
   ],
   "metadata": {
    "collapsed": false,
    "ExecuteTime": {
     "end_time": "2024-06-21T15:15:21.898Z",
     "start_time": "2024-06-21T15:15:21.896054Z"
    }
   },
   "id": "f66f108c7df355e9",
   "execution_count": 29
  },
  {
   "cell_type": "code",
   "outputs": [],
   "source": [
    "#pickle.dump(df, open('df.pkl', 'wb'))"
   ],
   "metadata": {
    "collapsed": false,
    "ExecuteTime": {
     "end_time": "2024-06-21T15:15:21.901841Z",
     "start_time": "2024-06-21T15:15:21.899237Z"
    }
   },
   "id": "8abec12f5beca2cc",
   "execution_count": 30
  },
  {
   "cell_type": "code",
   "outputs": [],
   "source": [
    "pickle.dump(book, open('books.pkl', 'wb'))"
   ],
   "metadata": {
    "collapsed": false,
    "ExecuteTime": {
     "end_time": "2024-06-21T15:22:48.549244Z",
     "start_time": "2024-06-21T15:22:48.074880Z"
    }
   },
   "id": "f0096123ac5d8d03",
   "execution_count": 40
  },
  {
   "cell_type": "code",
   "outputs": [
    {
     "name": "stdout",
     "output_type": "stream",
     "text": [
      "['http://images.amazon.com/images/P/0451526341.01.MZZZZZZZ.jpg']\n"
     ]
    }
   ],
   "source": [
    "print(book[book['Book-Title'] == 'Animal Farm']['Image-URL-M'].head(1).tolist())"
   ],
   "metadata": {
    "collapsed": false,
    "ExecuteTime": {
     "end_time": "2024-06-21T15:20:33.658794Z",
     "start_time": "2024-06-21T15:20:33.615613Z"
    }
   },
   "id": "87f9d66e3e6517a1",
   "execution_count": 39
  },
  {
   "cell_type": "code",
   "outputs": [],
   "source": [],
   "metadata": {
    "collapsed": false,
    "ExecuteTime": {
     "end_time": "2024-06-21T15:15:21.909592Z",
     "start_time": "2024-06-21T15:15:21.907524Z"
    }
   },
   "id": "20da741368bfcb4b",
   "execution_count": 31
  }
 ],
 "metadata": {
  "kernelspec": {
   "display_name": "Python 3",
   "language": "python",
   "name": "python3"
  },
  "language_info": {
   "codemirror_mode": {
    "name": "ipython",
    "version": 2
   },
   "file_extension": ".py",
   "mimetype": "text/x-python",
   "name": "python",
   "nbconvert_exporter": "python",
   "pygments_lexer": "ipython2",
   "version": "2.7.6"
  }
 },
 "nbformat": 4,
 "nbformat_minor": 5
}
